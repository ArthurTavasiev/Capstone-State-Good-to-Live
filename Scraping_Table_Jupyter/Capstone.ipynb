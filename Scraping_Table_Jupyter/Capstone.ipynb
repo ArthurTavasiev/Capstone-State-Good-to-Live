{
 "cells": [
  {
   "cell_type": "code",
   "execution_count": 9,
   "metadata": {},
   "outputs": [
    {
     "name": "stdout",
     "output_type": "stream",
     "text": [
      "Requirement already satisfied: pandas in c:\\users\\arthur\\appdata\\local\\programs\\python\\python312\\lib\\site-packages (2.2.2)\n",
      "Requirement already satisfied: requests in c:\\users\\arthur\\appdata\\local\\programs\\python\\python312\\lib\\site-packages (2.32.3)\n",
      "Requirement already satisfied: beautifulsoup4 in c:\\users\\arthur\\appdata\\local\\programs\\python\\python312\\lib\\site-packages (4.12.3)\n",
      "Collecting lxml\n",
      "  Downloading lxml-5.3.0-cp312-cp312-win_amd64.whl.metadata (3.9 kB)\n",
      "Requirement already satisfied: numpy>=1.26.0 in c:\\users\\arthur\\appdata\\local\\programs\\python\\python312\\lib\\site-packages (from pandas) (2.1.0)\n",
      "Requirement already satisfied: python-dateutil>=2.8.2 in c:\\users\\arthur\\appdata\\roaming\\python\\python312\\site-packages (from pandas) (2.9.0.post0)\n",
      "Requirement already satisfied: pytz>=2020.1 in c:\\users\\arthur\\appdata\\local\\programs\\python\\python312\\lib\\site-packages (from pandas) (2024.1)\n",
      "Requirement already satisfied: tzdata>=2022.7 in c:\\users\\arthur\\appdata\\local\\programs\\python\\python312\\lib\\site-packages (from pandas) (2024.1)\n",
      "Requirement already satisfied: charset-normalizer<4,>=2 in c:\\users\\arthur\\appdata\\local\\programs\\python\\python312\\lib\\site-packages (from requests) (3.3.2)\n",
      "Requirement already satisfied: idna<4,>=2.5 in c:\\users\\arthur\\appdata\\local\\programs\\python\\python312\\lib\\site-packages (from requests) (3.10)\n",
      "Requirement already satisfied: urllib3<3,>=1.21.1 in c:\\users\\arthur\\appdata\\local\\programs\\python\\python312\\lib\\site-packages (from requests) (2.2.3)\n",
      "Requirement already satisfied: certifi>=2017.4.17 in c:\\users\\arthur\\appdata\\local\\programs\\python\\python312\\lib\\site-packages (from requests) (2024.8.30)\n",
      "Requirement already satisfied: soupsieve>1.2 in c:\\users\\arthur\\appdata\\local\\programs\\python\\python312\\lib\\site-packages (from beautifulsoup4) (2.6)\n",
      "Requirement already satisfied: six>=1.5 in c:\\users\\arthur\\appdata\\roaming\\python\\python312\\site-packages (from python-dateutil>=2.8.2->pandas) (1.16.0)\n",
      "Downloading lxml-5.3.0-cp312-cp312-win_amd64.whl (3.8 MB)\n",
      "   ---------------------------------------- 0.0/3.8 MB ? eta -:--:--\n",
      "   ----- ---------------------------------- 0.5/3.8 MB 8.2 MB/s eta 0:00:01\n",
      "   ------------------------ --------------- 2.4/3.8 MB 8.4 MB/s eta 0:00:01\n",
      "   ----------------------------------- ---- 3.4/3.8 MB 6.9 MB/s eta 0:00:01\n",
      "   ---------------------------------------- 3.8/3.8 MB 6.9 MB/s eta 0:00:00\n",
      "Installing collected packages: lxml\n",
      "Successfully installed lxml-5.3.0\n",
      "Note: you may need to restart the kernel to use updated packages.\n"
     ]
    }
   ],
   "source": [
    "pip install pandas requests beautifulsoup4 lxml"
   ]
  },
  {
   "cell_type": "code",
   "execution_count": 5,
   "metadata": {},
   "outputs": [
    {
     "ename": "NameError",
     "evalue": "name 'df' is not defined",
     "output_type": "error",
     "traceback": [
      "\u001b[1;31m---------------------------------------------------------------------------\u001b[0m",
      "\u001b[1;31mNameError\u001b[0m                                 Traceback (most recent call last)",
      "Cell \u001b[1;32mIn[5], line 5\u001b[0m\n\u001b[0;32m      3\u001b[0m url \u001b[38;5;241m=\u001b[39m \u001b[38;5;124m\"\u001b[39m\u001b[38;5;124mhttps://worldpopulationreview.com/state-rankings/crime-rate-by-state\u001b[39m\u001b[38;5;124m\"\u001b[39m\n\u001b[0;32m      4\u001b[0m tables \u001b[38;5;241m=\u001b[39m pd\u001b[38;5;241m.\u001b[39mread_html(url)\n\u001b[1;32m----> 5\u001b[0m \u001b[43mdf\u001b[49m\u001b[38;5;241m.\u001b[39mto_csv(\u001b[38;5;124m'\u001b[39m\u001b[38;5;124mcrime_rate_by_state.csv\u001b[39m\u001b[38;5;124m'\u001b[39m, index\u001b[38;5;241m=\u001b[39m\u001b[38;5;28;01mFalse\u001b[39;00m)\n\u001b[0;32m      7\u001b[0m \u001b[38;5;66;03m# didn't work\u001b[39;00m\n",
      "\u001b[1;31mNameError\u001b[0m: name 'df' is not defined"
     ]
    }
   ],
   "source": [
    "# trying to get table using pandas\n",
    "import pandas as pd\n",
    "url = \"https://worldpopulationreview.com/state-rankings/crime-rate-by-state\"\n",
    "tables = pd.read_html(url)\n",
    "df.to_csv('crime_rate_by_state.csv', index=False)\n",
    "\n",
    "# didn't work"
   ]
  },
  {
   "cell_type": "code",
   "execution_count": 20,
   "metadata": {},
   "outputs": [
    {
     "name": "stdout",
     "output_type": "stream",
     "text": [
      "                  State  Crime Rate\n",
      "0  District of Columbia        7986\n",
      "1            New Mexico        6462\n",
      "2             Louisiana        6408\n",
      "3              Colorado        6091\n",
      "4        South Carolina        5973\n"
     ]
    },
    {
     "name": "stderr",
     "output_type": "stream",
     "text": [
      "C:\\Users\\Arthur\\AppData\\Local\\Temp\\ipykernel_22768\\173210677.py:20: FutureWarning: Passing literal html to 'read_html' is deprecated and will be removed in a future version. To read from a literal string, wrap it in a 'StringIO' object.\n",
      "  df = pd.read_html(str(tables))[0]\n"
     ]
    }
   ],
   "source": [
    "# trying to get table using BeautifulSoup\n",
    "\n",
    "import requests\n",
    "import pandas as pd\n",
    "from bs4 import BeautifulSoup\n",
    "\n",
    "# URL page\n",
    "url = \"https://worldpopulationreview.com/state-rankings/crime-rate-by-state\"\n",
    "\n",
    "# Loading HTML code from page\n",
    "response = requests.get(url)\n",
    "\n",
    "# Parcing with BeautifulSoup\n",
    "soup = BeautifulSoup(response.text, 'html.parser')\n",
    "\n",
    "# Find the tables on page\n",
    "tables = soup.find_all('table')\n",
    "\n",
    "if tables:\n",
    "    df = pd.read_html(str(tables))[0]\n",
    "    print(df.head())\n",
    "    \n",
    "    # Getting table in CSV\n",
    "    df.to_csv('crime_rate_by_state.csv', index=False)\n",
    "else:\n",
    "    print(\"Table not found.\")"
   ]
  },
  {
   "cell_type": "code",
   "execution_count": 23,
   "metadata": {},
   "outputs": [
    {
     "name": "stdout",
     "output_type": "stream",
     "text": [
      "                  State  Crime Rate\n",
      "0  District of Columbia        7986\n",
      "1            New Mexico        6462\n",
      "2             Louisiana        6408\n",
      "3              Colorado        6091\n",
      "4        South Carolina        5973\n",
      "5              Arkansas        5899\n",
      "6              Oklahoma        5870\n",
      "7            Washington        5759\n",
      "8             Tennessee        5658\n",
      "9                Oregon        5610\n"
     ]
    }
   ],
   "source": [
    "#  update previos code with StringIO\n",
    "\n",
    "import requests\n",
    "import pandas as pd\n",
    "from bs4 import BeautifulSoup\n",
    "from io import StringIO\n",
    "\n",
    "# URL page\n",
    "url = \"https://worldpopulationreview.com/state-rankings/crime-rate-by-state\"\n",
    "\n",
    "# Loading HTML code from page\n",
    "response = requests.get(url)\n",
    "\n",
    "# Parcing with BeautifulSoup\n",
    "soup = BeautifulSoup(response.text, 'html.parser')\n",
    "\n",
    "# Find the tables on page\n",
    "tables = soup.find_all('table')\n",
    "\n",
    "if tables:\n",
    "    # transform HTML table to DataFrame through StringIO\n",
    "    html_string = str(tables[0])  # Table to string\n",
    "    df = pd.read_html(StringIO(html_string))[0]\n",
    "\n",
    "    pd.set_option('display.max_rows', None)  # Delit limit\n",
    "\n",
    "    print(df)  # Output the whole table\n",
    "\n",
    "    # Getting table in CSV\n",
    "    df.to_csv('crime_rate_by_state_1.csv', index=False)\n",
    "else:\n",
    "    print(\"Table not found.\")"
   ]
  },
  {
   "cell_type": "code",
   "execution_count": 3,
   "metadata": {},
   "outputs": [
    {
     "name": "stdout",
     "output_type": "stream",
     "text": [
      "                   State  2020 Population  Crime Reported  Crime Rate  Violent Crimes  Violent Crime Rate  Non-Violent Crime  Non-Violent Crime Rate\n",
      "0   District of Columbia           712816           14113        7986            7127              999.84              49798                    6986\n",
      "1             New Mexico          2106319           22077        6462           16393              778.28             119718                    5684\n",
      "2              Louisiana          4645318           35473        6408           29704              639.44             267978                    5769\n",
      "3               Colorado          5807719           30238        6091           24570              423.06             329164                    5668\n",
      "4         South Carolina          5218040           33133        5973           27691              530.68             283974                    5442\n",
      "5               Arkansas          3030522           25590        5899           20363              671.93             158400                    5227\n",
      "6               Oklahoma          3980783           23666        5870           18255              458.58             215410                    5411\n",
      "7             Washington          7693612           28061        5759           22596              293.70             420446                    5465\n",
      "8              Tennessee          6886834           51314        5658           46328              672.70             343350                    4986\n",
      "9                 Oregon          4241507           17698        5610           12380              291.88             225564                    5318\n",
      "10              Missouri          6151548           38447        5605           33385              542.71             311396                    5062\n",
      "11                Alaska           731158           10647        5359            6126              837.85              33056                    4521\n",
      "12                  Utah          3249879           13400        5190            8471              260.66             160182                    4929\n",
      "13                Hawaii          1407006            8399        5077            3576              254.16              67856                    4823\n",
      "14               Arizona          7421401           40435        4940           35980              484.81             330646                    4455\n",
      "15                 Texas         29360759          135574        4937          131084              446.46            1318320                    4490\n",
      "16        North Carolina         10600823           48904        4872           44451              419.32             472052                    4453\n",
      "17                Kansas          2913805           16783        4823           12385              425.05             128154                    4398\n",
      "18               Alabama          4921532           26596        4727           22322              453.56             210322                    4274\n",
      "19            California         39368078          178304        4720          174026              442.05            1684108                    4278\n",
      "20               Montana          1080577            9319        4711            5077              469.84              45834                    4242\n",
      "21          North Dakota           765309            6766        4577            2518              329.02              32512                    4248\n",
      "22             Minnesota          5657342           19948        4527           15698              277.48             240424                    4250\n",
      "23           Mississippi          2966786           12841        4494            8638              291.16             124702                    4203\n",
      "24          South Dakota           892717            8389        4415            4476              501.39              34936                    3913\n",
      "25               Georgia         10710017           46865        4415           42850              400.09             429976                    4015\n",
      "26              Delaware           986809            8185        4355            4262              431.90              38710                    3923\n",
      "27                Nevada          3138259           18298        4314           14445              460.29             120924                    3853\n",
      "28              Nebraska          1937552           10291        4152            6473              334.08              73982                    3818\n",
      "29                  Ohio         11693217           39805        4009           36104              308.76             432726                    3701\n",
      "30               Indiana          6754953           27727        3924           24161              357.68             240906                    3566\n",
      "31               Florida         21733312           86907        3922           83368              383.60             769112                    3539\n",
      "32              Kentucky          4477251           15159        3818           11600              259.09             159346                    3559\n",
      "33                  Iowa          3163561           12997        3700            9601              303.49             107450                    3396\n",
      "34          Pennsylvania         12783254           53081        3678           49793              389.52             420334                    3288\n",
      "35              Maryland          6055802           27435        3619           24215              399.86             194974                    3220\n",
      "36              Illinois         12587530           56731        3545           53612              425.91             392574                    3119\n",
      "37               Wyoming           582328            4585        3455            1364              234.23              18758                    3221\n",
      "38           Connecticut          3557006            9589        3312            6459              181.59             111340                    3130\n",
      "39             Wisconsin          5832655           21832        3295           18861              323.37             173308                    2971\n",
      "40              Michigan          9966555           50363        3200           47641              478.01             271266                    2722\n",
      "41              New York         19336776           73160        3185           70339              363.76             545576                    2821\n",
      "42         West Virginia          1784787            9151        3155            6352              355.90              49952                    2799\n",
      "43              Virginia          8590563           20838        3121           17925              208.66             250228                    2913\n",
      "44          Rhode Island          1057125            4931        2722            2440              230.81              26332                    2491\n",
      "45               Vermont           623347            3515        2607            1081              173.42              15172                    2434\n",
      "46            New Jersey          8882371           19669        2512           17353              195.37             205750                    2316\n",
      "47                 Idaho          1826913            6656        2466            4432              242.59              40626                    2224\n",
      "48                 Maine          1350141            3778        2421            1466              108.58              31220                    2312\n",
      "49         Massachusetts          6893574           23394        2415           21288              308.81             145204                    2106\n",
      "50         New Hampshire          1366275            4198        2344            2000              146.38              30028                    2198\n"
     ]
    }
   ],
   "source": [
    "# Same thing for the second table on this page\n",
    "\n",
    "import requests\n",
    "import pandas as pd\n",
    "from bs4 import BeautifulSoup\n",
    "from io import StringIO\n",
    "\n",
    "# Pandas settings for table output\n",
    "pd.options.display.max_columns = None  # Show all columns\n",
    "pd.options.display.max_rows = None     # Show all rows\n",
    "pd.options.display.width = 1000        # Width in simbols\n",
    "\n",
    "# URL page\n",
    "url = \"https://worldpopulationreview.com/state-rankings/crime-rate-by-state\"\n",
    "\n",
    "# Loading HTML code from page\n",
    "response = requests.get(url)\n",
    "\n",
    "# Parcing with BeautifulSoup\n",
    "soup = BeautifulSoup(response.text, 'html.parser')\n",
    "\n",
    "# Find the tables on page\n",
    "tables = soup.find_all('table')\n",
    "\n",
    "if tables:\n",
    "    # transform HTML table to DataFrame through StringIO\n",
    "    html_string = str(tables[1])  # Table to string\n",
    "    df = pd.read_html(StringIO(html_string))[0]\n",
    "\n",
    "    pd.set_option('display.max_rows', None)  # Delit limit\n",
    "    pd.set_option('display.max_columns', None)  # Убираем лимит ширины колонок\n",
    "\n",
    "    print(df)  # Output the whole table\n",
    "\n",
    "    # Getting table in CSV\n",
    "    df.to_csv('crime_rate_by_state_2.csv', index=False)\n",
    "else:\n",
    "    print(\"Table not found.\")"
   ]
  }
 ],
 "metadata": {
  "kernelspec": {
   "display_name": "Python 3",
   "language": "python",
   "name": "python3"
  },
  "language_info": {
   "codemirror_mode": {
    "name": "ipython",
    "version": 3
   },
   "file_extension": ".py",
   "mimetype": "text/x-python",
   "name": "python",
   "nbconvert_exporter": "python",
   "pygments_lexer": "ipython3",
   "version": "3.12.4"
  }
 },
 "nbformat": 4,
 "nbformat_minor": 2
}
